{
 "cells": [
  {
   "cell_type": "markdown",
   "id": "ace8a858",
   "metadata": {},
   "source": [
    "## 1. Create a function in python to read the text file and replace specific content of the file.\n",
    "File name example.txt\n",
    "Origin file content This is a placement assignment\n",
    "Replace string Placement should be replaced by screening.\n",
    "Replaced file content This is a screening assignment\n"
   ]
  },
  {
   "cell_type": "code",
   "execution_count": 1,
   "id": "4460e0bf",
   "metadata": {},
   "outputs": [
    {
     "name": "stdout",
     "output_type": "stream",
     "text": [
      "This is a placement assignment\n",
      "This is a screening assignment\n"
     ]
    }
   ],
   "source": [
    "import os\n",
    "import logging as lg\n",
    "lg.basicConfig(filename='function.log',level=lg.INFO)\n",
    "class screen:\n",
    "    def __init__(self,filename):\n",
    "        self.filename = filename\n",
    "        \n",
    "    def File_open(self):\n",
    "        lst = os.listdir()\n",
    "        if self.filename is not os.listdir():\n",
    "            f = open(self.filename, 'w')\n",
    "            f.write(input()+\"\\n\")\n",
    "            lg.info(\"Wrote the file\") \n",
    "            lg.info(self.filename) \n",
    "            f.close()\n",
    "        else:\n",
    "            lg.info(\"file already exists\")\n",
    "            \n",
    "    def File_append(self):\n",
    "        try:\n",
    "            f = open(self.filename, 'a')\n",
    "            f.write(\"Placement should be replaced by screening.\")\n",
    "            lg.info(\"appended to the file\") \n",
    "        except Exception as e:\n",
    "            lg.info(\"file doesn't exist\", e)  \n",
    "\n",
    "    def File_read(self):\n",
    "        try:\n",
    "            f = open(self.filename, 'r')\n",
    "            for i in f:\n",
    "                return i\n",
    "            f.close()\n",
    "        except Exception as e:\n",
    "            lg.info(\"file doesn't exist\", e)\n",
    "            \n",
    "            \n",
    "v=screen(\"example.txt\")            \n",
    "v.File_open()  \n",
    "v.File_append()\n",
    "v.File_open()"
   ]
  },
  {
   "cell_type": "code",
   "execution_count": 2,
   "id": "96934aba",
   "metadata": {},
   "outputs": [
    {
     "data": {
      "text/plain": [
       "'This is a screening assignment\\n'"
      ]
     },
     "execution_count": 2,
     "metadata": {},
     "output_type": "execute_result"
    }
   ],
   "source": [
    "v.File_read()"
   ]
  },
  {
   "cell_type": "markdown",
   "id": "8dc93822",
   "metadata": {},
   "source": [
    "## 2. Demonstrate use of abstract class, multiple inheritance and decorator in python using examples."
   ]
  },
  {
   "cell_type": "markdown",
   "id": "ff8ece3e",
   "metadata": {},
   "source": [
    "ABSTRACT CLASS:  An abstract class can be considered as a blueprint for other classes. It allows you to create a set of methods that must be created within any child classes built from the abstract class. A class which contains one or more abstract methods is called an abstract class. An abstract method is a method that has a declaration but does not have an implementation. While we are designing large functional units we use an abstract class. When we want to provide a common interface for different implementations of a component, we use an abstract class. \n",
    "USE OF ABSTRACT CLASS: By defining an abstract base class, you can define a common Application Program Interface(API) for a set of subclasses. Remembering all classes is hectic for user, so we use abstract class."
   ]
  },
  {
   "cell_type": "markdown",
   "id": "0c6f22e3",
   "metadata": {},
   "source": [
    "multiple inheritance: Multiple Inheritance is an Inheritance type where a class inherits from more than one base class.let it say that many abstract classes for one class."
   ]
  },
  {
   "cell_type": "markdown",
   "id": "ca526f75",
   "metadata": {},
   "source": [
    "decorator :A decorator is a design pattern in Python that allows a user to add new functionality to an existing object without modifying its structure. Decorators are usually called before the definition of a function you want to decorate."
   ]
  }
 ],
 "metadata": {
  "kernelspec": {
   "display_name": "Python 3",
   "language": "python",
   "name": "python3"
  },
  "language_info": {
   "codemirror_mode": {
    "name": "ipython",
    "version": 3
   },
   "file_extension": ".py",
   "mimetype": "text/x-python",
   "name": "python",
   "nbconvert_exporter": "python",
   "pygments_lexer": "ipython3",
   "version": "3.8.8"
  }
 },
 "nbformat": 4,
 "nbformat_minor": 5
}
